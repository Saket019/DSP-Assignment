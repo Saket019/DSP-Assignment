{
 "cells": [
  {
   "cell_type": "code",
   "execution_count": 1,
   "metadata": {},
   "outputs": [],
   "source": [
    "import numpy as np\n",
    "import wave\n",
    "from scipy.io import wavfile\n",
    "import scipy.fftpack\n",
    "import random\n",
    "import matplotlib.pyplot as plt\n",
    "np.set_printoptions(suppress=True)"
   ]
  },
  {
   "cell_type": "code",
   "execution_count": 2,
   "metadata": {},
   "outputs": [],
   "source": [
    "def Edft(x,L):\n",
    "    y = np.fft.fft(x)\n",
    "    N = len(y)\n",
    "    a = int((N+1-L)/2)\n",
    "    b = int((N-1+L)/2)\n",
    "    for i in range(a,b+1):\n",
    "        y[i] = 0\n",
    "    x_m = np.fft.ifft(y)\n",
    "    print(((x - x_m)**2).mean(axis=0).real)\n",
    "    return ((x - x_m)**2).mean(axis=0).real"
   ]
  },
  {
   "cell_type": "code",
   "execution_count": 3,
   "metadata": {},
   "outputs": [],
   "source": [
    "def Edct(x,L):\n",
    "    y = scipy.fftpack.dct(x,norm='ortho')\n",
    "    N = len(y)\n",
    "    for i in range(N-L,N):\n",
    "        y[i] = 0\n",
    "    x_m = scipy.fftpack.idct(y,norm= 'ortho')\n",
    "\n",
    "    return ((x - x_m)**2).mean(axis=0)"
   ]
  },
  {
   "cell_type": "code",
   "execution_count": null,
   "metadata": {},
   "outputs": [],
   "source": [
    "fs, data = wavfile.read('/home/saket/saket/acads/DSP/audioclip.wav')\n",
    "signal = data[:,1][:30000]\n",
    "# signal = random.sample(range(1,100000),10000)\n",
    "plt.figure(0)\n",
    "plt.plot(range(len(signal)),signal)\n",
    "#print(signal\n",
    "#print(np.array(signal.dtype)\n",
    "# b = np.dtype(np.array(signal.dtype)\n",
    "# print(b)\n",
    "b = 16\n",
    "N = len(signal)\n",
    "cp = 1000\n",
    "xaxis = [0]*int(N/cp)\n",
    "yaxis = [0]*int(N/cp )\n",
    "yaxis2 = [0]*int(N/cp)\n",
    "M = 10000\n",
    "print(int(N/cp))\n",
    "while(int(M/cp) < len(yaxis)):\n",
    "    print(int(M/cp))\n",
    "    xaxis[int(M/cp)] = b*(N-M)/N\n",
    "    yaxis[int(M/cp)] = Edft(np.array(signal),M)\n",
    "    yaxis2[int(M/cp)] = Edct(np.array(signal),M)   \n",
    "    M +=cp\n",
    "plt.figure(1)\n",
    "plt.title('Plot')"
   ]
  }
 ],
 "metadata": {
  "kernelspec": {
   "display_name": "Python 3",
   "language": "python",
   "name": "python3"
  },
  "language_info": {
   "codemirror_mode": {
    "name": "ipython",
    "version": 3
   },
   "file_extension": ".py",
   "mimetype": "text/x-python",
   "name": "python",
   "nbconvert_exporter": "python",
   "pygments_lexer": "ipython3",
   "version": "3.6.5"
  }
 },
 "nbformat": 4,
 "nbformat_minor": 2
}
