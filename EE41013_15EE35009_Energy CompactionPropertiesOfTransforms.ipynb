{
 "cells": [
  {
   "cell_type": "code",
   "execution_count": 14,
   "metadata": {},
   "outputs": [],
   "source": [
    "import numpy as np\n",
    "import math\n",
    "import cmath\n",
    "import matplotlib.pyplot as plt\n",
    "import random"
   ]
  },
  {
   "cell_type": "code",
   "execution_count": 3,
   "metadata": {},
   "outputs": [],
   "source": [
    "def DFT(x):\n",
    "    N = len(x)\n",
    "    D = np.ones((N,N),dtype = complex)\n",
    "    for i in range(1,N):\n",
    "        for k in range(1,N):\n",
    "            D[i][k] = np.exp(-2j*(np.pi*i*k)/N)\n",
    "\n",
    "    y = np.matmul(D,np.transpose(x))\n",
    "    return np.transpose(y)"
   ]
  },
  {
   "cell_type": "code",
   "execution_count": 4,
   "metadata": {},
   "outputs": [],
   "source": [
    "def IDFT(y):\n",
    "    N = len(y)\n",
    "    D = np.ones((N,N),dtype = complex)\n",
    "    for i in range(1,N):\n",
    "        for k in range(1,N):\n",
    "            D[i][k] = np.exp(2j*(np.pi*i*k)/N)\n",
    "\n",
    "    z = np.matmul(D/N,np.transpose(y))\n",
    "    return np.transpose(z)"
   ]
  },
  {
   "cell_type": "code",
   "execution_count": 5,
   "metadata": {},
   "outputs": [],
   "source": [
    "def DCT(x):\n",
    "    N  = len(x)\n",
    "    Y = np.array([0.]*N)\n",
    "    for k in range(N):\n",
    "        for i in range(N):\n",
    "            Y[k] += 2.0*x[i]*math.cos(math.pi*k*(2.0*i+1)/(2.0*N))\n",
    "    return Y"
   ]
  },
  {
   "cell_type": "code",
   "execution_count": 6,
   "metadata": {},
   "outputs": [],
   "source": [
    "def IDCT(y):\n",
    "    N  = len(y)\n",
    "    Y = np.array([0.]*N)\n",
    "    for i in range(N):\n",
    "        for k in range(N):\n",
    "            if k == 0:\n",
    "                CONST = 0.5\n",
    "            else:\n",
    "                CONST = 1    \n",
    "            Y[i] += CONST*y[k]*math.cos(math.pi*k*(2*i+1)/(2*N))\n",
    "    return Y/N"
   ]
  },
  {
   "cell_type": "code",
   "execution_count": 7,
   "metadata": {},
   "outputs": [],
   "source": [
    "h2 = np.array([[1,1],[1,-1]])/math.sqrt(2)\n",
    "def haar_mat(n):\n",
    "    n = int(n)\n",
    "    if n == 1:\n",
    "        return h2\n",
    "    else:\n",
    "        a = np.kron(haar_mat(n-1),[1,1])\n",
    "        b = np.kron(np.identity(int(math.pow(2,n-1)))*math.pow(2,(n-1)/2.0),[1,-1])\n",
    "        #print(np.concatenate((a,b),axis=0))\n",
    "        return np.concatenate((a,b),axis=0)/math.sqrt(2)\n",
    "\n",
    "def haar(x):\n",
    "    return np.matmul(haar_mat(math.log(len(x),2)),np.transpose(x))"
   ]
  },
  {
   "cell_type": "code",
   "execution_count": 8,
   "metadata": {},
   "outputs": [],
   "source": [
    "def inverse_haar(y):\n",
    "    n = int(math.log(len(y),2))\n",
    "    N = len(y)\n",
    "    hn = haar_mat(n)\n",
    "    return np.matmul(np.transpose(hn)/N,np.transpose(y))"
   ]
  },
  {
   "cell_type": "code",
   "execution_count": 9,
   "metadata": {},
   "outputs": [],
   "source": [
    "def Edft(x,L):\n",
    "    y = DFT(x)\n",
    "    N = len(y)\n",
    "    a = int((N+1-L)/2)\n",
    "    b = int((N-1+L)/2)\n",
    "    for i in range(a,b+1):\n",
    "        y[i] = 0\n",
    "    x_m = IDFT(y)\n",
    "\n",
    "    return ((x - x_m) ** 2).mean(axis=0)\n"
   ]
  },
  {
   "cell_type": "code",
   "execution_count": 10,
   "metadata": {},
   "outputs": [],
   "source": [
    "def Edct(x,L):\n",
    "    y = DCT(x)\n",
    "    N = len(y)\n",
    "    for i in range(N-L,N):\n",
    "        y[i] = 0\n",
    "    x_m = IDCT(y)\n",
    "\n",
    "    return ((x - x_m) ** 2).mean(axis=0)"
   ]
  },
  {
   "cell_type": "code",
   "execution_count": 11,
   "metadata": {},
   "outputs": [],
   "source": [
    "def Ehaar(x,L):\n",
    "    y = haar(x)\n",
    "    N = len(y)\n",
    "    for i in range(N-L,N):\n",
    "        y[i] = 0\n",
    "    x_m = inverse_haar(y)\n",
    "\n",
    "    return ((x - x_m) ** 2).mean(axis=0)"
   ]
  },
  {
   "cell_type": "code",
   "execution_count": 13,
   "metadata": {},
   "outputs": [
    {
     "name": "stdout",
     "output_type": "stream",
     "text": [
      "\n",
      "X:  [54 88 44 30 67 34 25 31 48  1 63 39  4  8 66 76 99 29 83 77 93 55  6 92\n",
      " 46 90  2 58 12 40  5 16 17 75 62 57 13 53 82 86 11 85 64 79 14 19 21 41\n",
      " 15 33 52 65 70 42 95 59 94 50 47 87  0 74 84 73]\n"
     ]
    },
    {
     "name": "stderr",
     "output_type": "stream",
     "text": [
      "/home/saket/anaconda3/lib/python3.6/site-packages/numpy/core/numeric.py:492: ComplexWarning: Casting complex values to real discards the imaginary part\n",
      "  return array(a, dtype, copy=False, order=order)\n"
     ]
    },
    {
     "data": {
      "image/png": "[encoded data removed]",
      "text/plain": [
       "<Figure size 432x288 with 1 Axes>"
      ]
     },
     "metadata": {},
     "output_type": "display_data"
    }
   ],
   "source": [
    "X = np.array(random.sample(range(100),64))\n",
    "print(\"\\nX: \", X)\n",
    "plt.figure()\n",
    "ydft = [0.]*64\n",
    "ydct = [0.]*64\n",
    "yhaar = [0.]*64\n",
    "for L in range(64):\n",
    "    ydft[L] = Edft(X,L)\n",
    "    ydct[L] = Edct(X,L)\n",
    "    yhaar[L] = Ehaar(X,L) \n",
    "plt.title('Energy Compaction Comparison Plot')\n",
    "plt.plot(range(64),ydft,'--b',label = \"DFT\")\n",
    "plt.plot(range(64),ydct,'-r',label = 'DCT')\n",
    "plt.plot(range(64),yhaar,'-g',label = 'Haar')\n",
    "plt.legend(loc='center left')    \n",
    "plt.xlabel(\"L\")\n",
    "plt.ylabel(\"E(L)\")\n",
    "plt.show()"
   ]
  }
 ],
 "metadata": {
  "kernelspec": {
   "display_name": "Python 3",
   "language": "python",
   "name": "python3"
  },
  "language_info": {
   "codemirror_mode": {
    "name": "ipython",
    "version": 3
   },
   "file_extension": ".py",
   "mimetype": "text/x-python",
   "name": "python",
   "nbconvert_exporter": "python",
   "pygments_lexer": "ipython3",
   "version": "3.6.5"
  }
 },
 "nbformat": 4,
 "nbformat_minor": 2
}
